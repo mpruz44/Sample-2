{
 "cells": [
  {
   "cell_type": "code",
   "execution_count": 6,
   "id": "f79fdc14-39a4-4d0a-b322-0ad0554120c5",
   "metadata": {},
   "outputs": [
    {
     "name": "stdout",
     "output_type": "stream",
     "text": [
      "   ID  LIMIT_BAL  SEX  EDUCATION  MARRIAGE  AGE  PAY_0  PAY_2  PAY_3  PAY_4  \\\n",
      "0   1      20000    2          2         1   24      2      2     -1     -1   \n",
      "1   2     120000    2          2         2   26     -1      2      0      0   \n",
      "2   3      90000    2          2         2   34      0      0      0      0   \n",
      "3   4      50000    2          2         1   37      0      0      0      0   \n",
      "4   5      50000    1          2         1   57     -1      0     -1      0   \n",
      "\n",
      "   ...  BILL_AMT4  BILL_AMT5  BILL_AMT6  PAY_AMT1  PAY_AMT2  PAY_AMT3  \\\n",
      "0  ...          0          0          0         0       689         0   \n",
      "1  ...       3272       3455       3261         0      1000      1000   \n",
      "2  ...      14331      14948      15549      1518      1500      1000   \n",
      "3  ...      28314      28959      29547      2000      2019      1200   \n",
      "4  ...      20940      19146      19131      2000     36681     10000   \n",
      "\n",
      "   PAY_AMT4  PAY_AMT5  PAY_AMT6  default payment next month  \n",
      "0         0         0         0                           1  \n",
      "1      1000         0      2000                           1  \n",
      "2      1000      1000      5000                           0  \n",
      "3      1100      1069      1000                           0  \n",
      "4      9000       689       679                           0  \n",
      "\n",
      "[5 rows x 25 columns]\n",
      "<class 'pandas.core.frame.DataFrame'>\n",
      "RangeIndex: 30000 entries, 0 to 29999\n",
      "Data columns (total 25 columns):\n",
      " #   Column                      Non-Null Count  Dtype\n",
      "---  ------                      --------------  -----\n",
      " 0   ID                          30000 non-null  int64\n",
      " 1   LIMIT_BAL                   30000 non-null  int64\n",
      " 2   SEX                         30000 non-null  int64\n",
      " 3   EDUCATION                   30000 non-null  int64\n",
      " 4   MARRIAGE                    30000 non-null  int64\n",
      " 5   AGE                         30000 non-null  int64\n",
      " 6   PAY_0                       30000 non-null  int64\n",
      " 7   PAY_2                       30000 non-null  int64\n",
      " 8   PAY_3                       30000 non-null  int64\n",
      " 9   PAY_4                       30000 non-null  int64\n",
      " 10  PAY_5                       30000 non-null  int64\n",
      " 11  PAY_6                       30000 non-null  int64\n",
      " 12  BILL_AMT1                   30000 non-null  int64\n",
      " 13  BILL_AMT2                   30000 non-null  int64\n",
      " 14  BILL_AMT3                   30000 non-null  int64\n",
      " 15  BILL_AMT4                   30000 non-null  int64\n",
      " 16  BILL_AMT5                   30000 non-null  int64\n",
      " 17  BILL_AMT6                   30000 non-null  int64\n",
      " 18  PAY_AMT1                    30000 non-null  int64\n",
      " 19  PAY_AMT2                    30000 non-null  int64\n",
      " 20  PAY_AMT3                    30000 non-null  int64\n",
      " 21  PAY_AMT4                    30000 non-null  int64\n",
      " 22  PAY_AMT5                    30000 non-null  int64\n",
      " 23  PAY_AMT6                    30000 non-null  int64\n",
      " 24  default payment next month  30000 non-null  int64\n",
      "dtypes: int64(25)\n",
      "memory usage: 5.7 MB\n",
      "None\n"
     ]
    }
   ],
   "source": [
    "import pandas as pd\n",
    "\n",
    "# Load the dataset from a local file\n",
    "file_path = \"default of credit card clients.xls\"  # Ensure this matches the file name exactly\n",
    "data = pd.read_excel(file_path, header=1)\n",
    "\n",
    "# Display basic information about the dataset\n",
    "print(data.head())\n",
    "print(data.info())\n"
   ]
  },
  {
   "cell_type": "code",
   "execution_count": 7,
   "id": "899f5aed-da64-434a-94b4-c10c650d9dd0",
   "metadata": {},
   "outputs": [],
   "source": [
    "from sklearn.model_selection import train_test_split\n",
    "from sklearn.preprocessing import StandardScaler\n",
    "\n",
    "# Drop unnecessary columns and handle missing values\n",
    "data = data.dropna()  # Drop missing values\n",
    "\n",
    "# Rename the target column for convenience\n",
    "data.rename(columns={'default payment next month': 'Default'}, inplace=True)\n",
    "\n",
    "# Separate features and target variable\n",
    "X = data.drop(columns=['Default'])\n",
    "y = data['Default']\n",
    "\n",
    "# Split the data into training and testing sets\n",
    "X_train, X_test, y_train, y_test = train_test_split(X, y, test_size=0.2, random_state=42, stratify=y)\n",
    "\n",
    "# Standardize the features\n",
    "scaler = StandardScaler()\n",
    "X_train_scaled = scaler.fit_transform(X_train)\n",
    "X_test_scaled = scaler.transform(X_test)\n"
   ]
  },
  {
   "cell_type": "code",
   "execution_count": 8,
   "id": "44b9f339-312b-4683-8de6-b42acebd40fc",
   "metadata": {},
   "outputs": [
    {
     "name": "stdout",
     "output_type": "stream",
     "text": [
      "              precision    recall  f1-score   support\n",
      "\n",
      "           0       0.84      0.94      0.89      4673\n",
      "           1       0.64      0.36      0.47      1327\n",
      "\n",
      "    accuracy                           0.81      6000\n",
      "   macro avg       0.74      0.65      0.68      6000\n",
      "weighted avg       0.80      0.81      0.79      6000\n",
      "\n",
      "ROC-AUC Score: 0.6535838728503511\n"
     ]
    }
   ],
   "source": [
    "from sklearn.ensemble import RandomForestClassifier\n",
    "from sklearn.metrics import classification_report, roc_auc_score\n",
    "\n",
    "# Train a RandomForest model\n",
    "model = RandomForestClassifier(random_state=42)\n",
    "model.fit(X_train_scaled, y_train)\n",
    "\n",
    "# Make predictions\n",
    "y_pred = model.predict(X_test_scaled)\n",
    "\n",
    "# Evaluate the model\n",
    "print(classification_report(y_test, y_pred))\n",
    "print(f'ROC-AUC Score: {roc_auc_score(y_test, y_pred)}')\n"
   ]
  },
  {
   "cell_type": "code",
   "execution_count": 9,
   "id": "4788b7b3-ba54-4077-bfe4-65e42cb25323",
   "metadata": {},
   "outputs": [
    {
     "name": "stdout",
     "output_type": "stream",
     "text": [
      "              precision    recall  f1-score   support\n",
      "\n",
      "           0       0.85      0.89      0.87      4673\n",
      "           1       0.55      0.46      0.50      1327\n",
      "\n",
      "    accuracy                           0.80      6000\n",
      "   macro avg       0.70      0.68      0.69      6000\n",
      "weighted avg       0.79      0.80      0.79      6000\n",
      "\n",
      "ROC-AUC Score: 0.6759103387140706\n"
     ]
    }
   ],
   "source": [
    "from imblearn.over_sampling import SMOTE\n",
    "\n",
    "# Apply SMOTE to the training data\n",
    "sm = SMOTE(random_state=42)\n",
    "X_train_res, y_train_res = sm.fit_resample(X_train_scaled, y_train)\n",
    "\n",
    "# Train the model on the resampled data\n",
    "model.fit(X_train_res, y_train_res)\n",
    "y_pred_res = model.predict(X_test_scaled)\n",
    "\n",
    "# Evaluate the model on resampled data\n",
    "print(classification_report(y_test, y_pred_res))\n",
    "print(f'ROC-AUC Score: {roc_auc_score(y_test, y_pred_res)}')\n"
   ]
  },
  {
   "cell_type": "code",
   "execution_count": 10,
   "id": "e74f2bff-651f-478c-863b-cadf41279e69",
   "metadata": {},
   "outputs": [
    {
     "name": "stdout",
     "output_type": "stream",
     "text": [
      "Fitting 5 folds for each of 81 candidates, totalling 405 fits\n",
      "XGBoost Best parameters found:  {'learning_rate': 0.2, 'max_depth': 7, 'min_child_weight': 1, 'n_estimators': 300}\n",
      "              precision    recall  f1-score   support\n",
      "\n",
      "           0       0.85      0.91      0.88      4673\n",
      "           1       0.56      0.42      0.48      1327\n",
      "\n",
      "    accuracy                           0.80      6000\n",
      "   macro avg       0.71      0.66      0.68      6000\n",
      "weighted avg       0.78      0.80      0.79      6000\n",
      "\n",
      "XGBoost ROC-AUC Score: 0.6621371534046296\n"
     ]
    }
   ],
   "source": [
    "from xgboost import XGBClassifier\n",
    "from sklearn.model_selection import GridSearchCV\n",
    "\n",
    "# Define the parameter grid for XGBoost\n",
    "param_grid_xgb = {\n",
    "    'n_estimators': [100, 200, 300],\n",
    "    'learning_rate': [0.01, 0.1, 0.2],\n",
    "    'max_depth': [3, 5, 7],\n",
    "    'min_child_weight': [1, 3, 5]\n",
    "}\n",
    "\n",
    "# Create the XGBoost model\n",
    "xgb = XGBClassifier(random_state=42)\n",
    "\n",
    "# Perform Grid Search\n",
    "grid_search_xgb = GridSearchCV(estimator=xgb, param_grid=param_grid_xgb, cv=5, n_jobs=-1, verbose=2)\n",
    "grid_search_xgb.fit(X_train_res, y_train_res)\n",
    "\n",
    "# Best parameters\n",
    "print(\"XGBoost Best parameters found: \", grid_search_xgb.best_params_)\n",
    "\n",
    "# Make predictions with the best model\n",
    "best_xgb = grid_search_xgb.best_estimator_\n",
    "y_pred_xgb = best_xgb.predict(X_test_scaled)\n",
    "\n",
    "# Evaluate the XGBoost model\n",
    "print(classification_report(y_test, y_pred_xgb))\n",
    "print(f'XGBoost ROC-AUC Score: {roc_auc_score(y_test, y_pred_xgb)}')\n"
   ]
  },
  {
   "cell_type": "code",
   "execution_count": 11,
   "id": "065f0449-704a-4d0d-97ec-c85aaaf9177c",
   "metadata": {},
   "outputs": [
    {
     "data": {
      "image/png": "[encoded data removed]",
      "text/plain": [
       "<Figure size 640x480 with 1 Axes>"
      ]
     },
     "metadata": {},
     "output_type": "display_data"
    }
   ],
   "source": [
    "import matplotlib.pyplot as plt\n",
    "import seaborn as sns\n",
    "\n",
    "# Feature importance from the best XGBoost model\n",
    "feature_importances = pd.Series(best_xgb.feature_importances_, index=X.columns)\n",
    "feature_importances.nlargest(10).plot(kind='barh')\n",
    "plt.title('Feature Importance')\n",
    "plt.show()\n"
   ]
  },
  {
   "cell_type": "code",
   "execution_count": 12,
   "id": "738c92ce-bc91-456c-a2c3-889a380df3ac",
   "metadata": {},
   "outputs": [
    {
     "name": "stdout",
     "output_type": "stream",
     "text": [
      "              precision    recall  f1-score   support\n",
      "\n",
      "           0       0.85      0.91      0.88      4673\n",
      "           1       0.59      0.44      0.50      1327\n",
      "\n",
      "    accuracy                           0.81      6000\n",
      "   macro avg       0.72      0.68      0.69      6000\n",
      "weighted avg       0.79      0.81      0.80      6000\n",
      "\n",
      "Ensemble ROC-AUC Score: 0.6761761798889256\n"
     ]
    }
   ],
   "source": [
    "from sklearn.ensemble import VotingClassifier\n",
    "\n",
    "# Combine Random Forest and XGBoost models\n",
    "voting_clf = VotingClassifier(estimators=[\n",
    "    ('rf', model), \n",
    "    ('xgb', best_xgb)\n",
    "], voting='soft')\n",
    "\n",
    "# Train the ensemble model\n",
    "voting_clf.fit(X_train_res, y_train_res)\n",
    "\n",
    "# Make predictions\n",
    "y_pred_voting = voting_clf.predict(X_test_scaled)\n",
    "\n",
    "# Evaluate the ensemble model\n",
    "print(classification_report(y_test, y_pred_voting))\n",
    "print(f'Ensemble ROC-AUC Score: {roc_auc_score(y_test, y_pred_voting)}')\n"
   ]
  },
  {
   "cell_type": "code",
   "execution_count": 13,
   "id": "f53587a7-de2d-44e5-a369-b71cc52acf17",
   "metadata": {},
   "outputs": [
    {
     "name": "stdout",
     "output_type": "stream",
     "text": [
      "Fitting 5 folds for each of 100 candidates, totalling 500 fits\n",
      "Fitting 5 folds for each of 100 candidates, totalling 500 fits\n",
      "              precision    recall  f1-score   support\n",
      "\n",
      "           0       0.85      0.91      0.88      4673\n",
      "           1       0.57      0.43      0.49      1327\n",
      "\n",
      "    accuracy                           0.80      6000\n",
      "   macro avg       0.71      0.67      0.68      6000\n",
      "weighted avg       0.79      0.80      0.79      6000\n",
      "\n",
      "Ensemble ROC-AUC Score: 0.6679005933007378\n"
     ]
    }
   ],
   "source": [
    "from sklearn.model_selection import RandomizedSearchCV\n",
    "from scipy.stats import randint\n",
    "\n",
    "# Define the parameter distribution for RandomForest\n",
    "param_dist_rf = {\n",
    "    'n_estimators': randint(100, 1000),\n",
    "    'max_depth': randint(3, 30),\n",
    "    'min_samples_split': randint(2, 10),\n",
    "    'min_samples_leaf': randint(1, 10),\n",
    "}\n",
    "\n",
    "# Define the parameter distribution for XGBoost\n",
    "param_dist_xgb = {\n",
    "    'n_estimators': randint(100, 1000),\n",
    "    'learning_rate': [0.01, 0.1, 0.2],\n",
    "    'max_depth': randint(3, 30),\n",
    "    'min_child_weight': randint(1, 10),\n",
    "}\n",
    "\n",
    "# Create the models\n",
    "rf = RandomForestClassifier(random_state=42)\n",
    "xgb = XGBClassifier(random_state=42)\n",
    "\n",
    "# Perform Randomized Search for RandomForest\n",
    "random_search_rf = RandomizedSearchCV(estimator=rf, param_distributions=param_dist_rf, n_iter=100, cv=5, n_jobs=-1, random_state=42, verbose=2)\n",
    "random_search_rf.fit(X_train_res, y_train_res)\n",
    "best_rf = random_search_rf.best_estimator_\n",
    "\n",
    "# Perform Randomized Search for XGBoost\n",
    "random_search_xgb = RandomizedSearchCV(estimator=xgb, param_distributions=param_dist_xgb, n_iter=100, cv=5, n_jobs=-1, random_state=42, verbose=2)\n",
    "random_search_xgb.fit(X_train_res, y_train_res)\n",
    "best_xgb = random_search_xgb.best_estimator_\n",
    "\n",
    "# Combine the models into an ensemble\n",
    "voting_clf = VotingClassifier(estimators=[\n",
    "    ('rf', best_rf), \n",
    "    ('xgb', best_xgb)\n",
    "], voting='soft')\n",
    "\n",
    "# Train the ensemble model\n",
    "voting_clf.fit(X_train_res, y_train_res)\n",
    "\n",
    "# Make predictions\n",
    "y_pred_voting = voting_clf.predict(X_test_scaled)\n",
    "\n",
    "# Evaluate the ensemble model\n",
    "print(classification_report(y_test, y_pred_voting))\n",
    "print(f'Ensemble ROC-AUC Score: {roc_auc_score(y_test, y_pred_voting)}')\n"
   ]
  },
  {
   "cell_type": "code",
   "execution_count": null,
   "id": "c6ec0092-8eb0-4b53-a17a-6f7e040576ee",
   "metadata": {},
   "outputs": [],
   "source": []
  },
  {
   "cell_type": "code",
   "execution_count": null,
   "id": "bcb9caef-211a-4efe-a887-1c3610314768",
   "metadata": {},
   "outputs": [],
   "source": []
  },
  {
   "cell_type": "code",
   "execution_count": null,
   "id": "3da9d1df-e083-4027-add0-e786b2ad6589",
   "metadata": {},
   "outputs": [],
   "source": []
  },
  {
   "cell_type": "code",
   "execution_count": null,
   "id": "f02ea15a-5f40-4276-bbbd-c2b0bfc85da0",
   "metadata": {},
   "outputs": [],
   "source": []
  },
  {
   "cell_type": "code",
   "execution_count": null,
   "id": "3651423c-4f89-4abe-b79a-5df4df167574",
   "metadata": {},
   "outputs": [],
   "source": []
  },
  {
   "cell_type": "code",
   "execution_count": null,
   "id": "dc028c61-dc23-4af8-bc08-651327ab4a3e",
   "metadata": {},
   "outputs": [],
   "source": []
  }
 ],
 "metadata": {
  "kernelspec": {
   "display_name": "Python 3 (ipykernel)",
   "language": "python",
   "name": "python3"
  },
  "language_info": {
   "codemirror_mode": {
    "name": "ipython",
    "version": 3
   },
   "file_extension": ".py",
   "mimetype": "text/x-python",
   "name": "python",
   "nbconvert_exporter": "python",
   "pygments_lexer": "ipython3",
   "version": "3.12.4"
  }
 },
 "nbformat": 4,
 "nbformat_minor": 5
}
